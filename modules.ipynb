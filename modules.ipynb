{
 "cells": [
  {
   "cell_type": "code",
   "execution_count": 1,
   "id": "617077b3",
   "metadata": {},
   "outputs": [],
   "source": [
    "import os"
   ]
  },
  {
   "cell_type": "code",
   "execution_count": 2,
   "id": "f387c064",
   "metadata": {},
   "outputs": [],
   "source": [
    "path = os.getcwd()\n",
    "dir_list = os.listdir(path)"
   ]
  },
  {
   "cell_type": "code",
   "execution_count": 3,
   "id": "5085dc3b",
   "metadata": {},
   "outputs": [
    {
     "data": {
      "text/plain": [
       "['string_manipulation.ipynb',\n",
       " 'README.md',\n",
       " '__pycache__',\n",
       " 'sample.py',\n",
       " 'sort.py',\n",
       " 'map_filter_reduce.ipynb',\n",
       " 'pytohn.py.save',\n",
       " 'question1.py',\n",
       " 'simple_calculator.py',\n",
       " 'shushant_python.py',\n",
       " 'question_3.py',\n",
       " '__init_.py',\n",
       " 'prime.py',\n",
       " '.ipynb_checkpoints',\n",
       " 'dictionaries.ipynb',\n",
       " 'problem_1.py',\n",
       " 'data_structures.ipynb',\n",
       " 'test.py',\n",
       " 'modules.ipynb',\n",
       " '.git',\n",
       " 'loopingInPython.ipynb',\n",
       " 'dictionary_comprehension.ipynb',\n",
       " 'probem_2.py',\n",
       " 'lambda.py',\n",
       " 'lambda_operator.py']"
      ]
     },
     "execution_count": 3,
     "metadata": {},
     "output_type": "execute_result"
    }
   ],
   "source": [
    "dir_list"
   ]
  },
  {
   "cell_type": "code",
   "execution_count": 4,
   "id": "61c8bbec",
   "metadata": {},
   "outputs": [
    {
     "data": {
      "text/plain": [
       "datetime.date(2021, 6, 29)"
      ]
     },
     "execution_count": 4,
     "metadata": {},
     "output_type": "execute_result"
    }
   ],
   "source": [
    "from datetime import date\n",
    "now = date.today()\n",
    "now"
   ]
  },
  {
   "cell_type": "code",
   "execution_count": 5,
   "id": "868208aa",
   "metadata": {},
   "outputs": [
    {
     "name": "stdout",
     "output_type": "stream",
     "text": [
      "Collecting geopy\n",
      "  Downloading geopy-2.1.0-py3-none-any.whl (112 kB)\n",
      "\u001b[K     |████████████████████████████████| 112 kB 310 kB/s eta 0:00:01\n",
      "\u001b[?25hCollecting geographiclib<2,>=1.49\n",
      "  Downloading geographiclib-1.52-py3-none-any.whl (38 kB)\n",
      "Installing collected packages: geographiclib, geopy\n",
      "Successfully installed geographiclib-1.52 geopy-2.1.0\n"
     ]
    }
   ],
   "source": [
    "!pip install geopy"
   ]
  },
  {
   "cell_type": "code",
   "execution_count": 6,
   "id": "f1457056",
   "metadata": {},
   "outputs": [
    {
     "name": "stdout",
     "output_type": "stream",
     "text": [
      "Collecting facebook-scraper\n",
      "  Using cached facebook_scraper-0.2.43-py3-none-any.whl (33 kB)\n",
      "Collecting demjson<3.0.0,>=2.2.4\n",
      "  Using cached demjson-2.2.4.tar.gz (131 kB)\n",
      "Collecting dateparser<2.0.0,>=1.0.0\n",
      "  Using cached dateparser-1.0.0-py2.py3-none-any.whl (279 kB)\n",
      "Collecting requests-html<0.11.0,>=0.10.0\n",
      "  Using cached requests_html-0.10.0-py3-none-any.whl (13 kB)\n",
      "Collecting tzlocal\n",
      "  Using cached tzlocal-2.1-py2.py3-none-any.whl (16 kB)\n",
      "Requirement already satisfied: pytz in /home/shushant/anaconda3/envs/python_class/lib/python3.6/site-packages (from dateparser<2.0.0,>=1.0.0->facebook-scraper) (2021.1)\n",
      "Collecting regex!=2019.02.19\n",
      "  Downloading regex-2021.4.4-cp36-cp36m-manylinux2014_x86_64.whl (722 kB)\n",
      "\u001b[K     |████████████████████████████████| 722 kB 305 kB/s eta 0:00:01\n",
      "\u001b[?25hRequirement already satisfied: python-dateutil in /home/shushant/anaconda3/envs/python_class/lib/python3.6/site-packages (from dateparser<2.0.0,>=1.0.0->facebook-scraper) (2.8.1)\n",
      "Collecting w3lib\n",
      "  Using cached w3lib-1.22.0-py2.py3-none-any.whl (20 kB)\n",
      "Collecting bs4\n",
      "  Using cached bs4-0.0.1.tar.gz (1.1 kB)\n",
      "Collecting pyquery\n",
      "  Using cached pyquery-1.4.3-py3-none-any.whl (22 kB)\n",
      "Collecting fake-useragent\n",
      "  Using cached fake-useragent-0.1.11.tar.gz (13 kB)\n",
      "Collecting pyppeteer>=0.0.14\n",
      "  Using cached pyppeteer-0.2.5-py3-none-any.whl (87 kB)\n",
      "Collecting parse\n",
      "  Using cached parse-1.19.0.tar.gz (30 kB)\n",
      "Collecting requests\n",
      "  Using cached requests-2.25.1-py2.py3-none-any.whl (61 kB)\n",
      "Collecting pyee<9.0.0,>=8.1.0\n",
      "  Using cached pyee-8.1.0-py2.py3-none-any.whl (12 kB)\n",
      "Collecting appdirs<2.0.0,>=1.4.3\n",
      "  Downloading appdirs-1.4.4-py2.py3-none-any.whl (9.6 kB)\n",
      "Collecting urllib3<2.0.0,>=1.25.8\n",
      "  Using cached urllib3-1.26.6-py2.py3-none-any.whl (138 kB)\n",
      "Collecting tqdm<5.0.0,>=4.42.1\n",
      "  Downloading tqdm-4.61.1-py2.py3-none-any.whl (75 kB)\n",
      "\u001b[K     |████████████████████████████████| 75 kB 479 kB/s  eta 0:00:01\n",
      "\u001b[?25hCollecting websockets<9.0,>=8.1\n",
      "  Downloading websockets-8.1-cp36-cp36m-manylinux2010_x86_64.whl (78 kB)\n",
      "\u001b[K     |████████████████████████████████| 78 kB 840 kB/s  eta 0:00:01\n",
      "\u001b[?25hCollecting importlib-metadata<3.0.0,>=2.1.1\n",
      "  Downloading importlib_metadata-2.1.1-py2.py3-none-any.whl (10 kB)\n",
      "Requirement already satisfied: zipp>=0.5 in /home/shushant/anaconda3/envs/python_class/lib/python3.6/site-packages (from importlib-metadata<3.0.0,>=2.1.1->pyppeteer>=0.0.14->requests-html<0.11.0,>=0.10.0->facebook-scraper) (3.4.1)\n",
      "Collecting beautifulsoup4\n",
      "  Downloading beautifulsoup4-4.9.3-py3-none-any.whl (115 kB)\n",
      "\u001b[K     |████████████████████████████████| 115 kB 5.8 MB/s eta 0:00:01\n",
      "\u001b[?25hCollecting soupsieve>1.2\n",
      "  Downloading soupsieve-2.2.1-py3-none-any.whl (33 kB)\n",
      "Collecting cssselect>0.7.9\n",
      "  Using cached cssselect-1.1.0-py2.py3-none-any.whl (16 kB)\n",
      "Collecting lxml>=2.1\n",
      "  Downloading lxml-4.6.3-cp36-cp36m-manylinux2014_x86_64.whl (6.3 MB)\n",
      "\u001b[K     |████████████████████████████████| 6.3 MB 806 kB/s eta 0:00:01\n",
      "\u001b[?25hRequirement already satisfied: six>=1.5 in /home/shushant/anaconda3/envs/python_class/lib/python3.6/site-packages (from python-dateutil->dateparser<2.0.0,>=1.0.0->facebook-scraper) (1.16.0)\n",
      "Collecting idna<3,>=2.5\n",
      "  Using cached idna-2.10-py2.py3-none-any.whl (58 kB)\n",
      "Collecting chardet<5,>=3.0.2\n",
      "  Using cached chardet-4.0.0-py2.py3-none-any.whl (178 kB)\n",
      "Requirement already satisfied: certifi>=2017.4.17 in /home/shushant/anaconda3/envs/python_class/lib/python3.6/site-packages (from requests->requests-html<0.11.0,>=0.10.0->facebook-scraper) (2021.5.30)\n",
      "Building wheels for collected packages: demjson, bs4, fake-useragent, parse\n",
      "  Building wheel for demjson (setup.py) ... \u001b[?25ldone\n",
      "\u001b[?25h  Created wheel for demjson: filename=demjson-2.2.4-py3-none-any.whl size=73545 sha256=9209bb8494aaaf08be067394cb9dec159824233d17740b0fe2a9132da84a363b\n",
      "  Stored in directory: /home/shushant/.cache/pip/wheels/f6/ce/3a/713fa88864a1d8c48bdd1bacfd18068dd8facc280c4c3c5235\n",
      "  Building wheel for bs4 (setup.py) ... \u001b[?25ldone\n",
      "\u001b[?25h  Created wheel for bs4: filename=bs4-0.0.1-py3-none-any.whl size=1273 sha256=2e87b05c2bd950f590c9748f3a518da1612b8f96f70b38caadb4b11db3d91f3e\n",
      "  Stored in directory: /home/shushant/.cache/pip/wheels/19/f5/6d/a97dd4f22376d4472d5f4c76c7646876052ff3166b3cf71050\n",
      "  Building wheel for fake-useragent (setup.py) ... \u001b[?25ldone\n",
      "\u001b[?25h  Created wheel for fake-useragent: filename=fake_useragent-0.1.11-py3-none-any.whl size=13486 sha256=7c2053d47783a18fac0689c4cc01dc369ef6aea360c4812ec4efb86a6d4e536c\n",
      "  Stored in directory: /home/shushant/.cache/pip/wheels/12/8a/a1/0ab79c1c2c58aa7647d0dea17f2af2358b65e1eecac8094b5e\n",
      "  Building wheel for parse (setup.py) ... \u001b[?25ldone\n",
      "\u001b[?25h  Created wheel for parse: filename=parse-1.19.0-py3-none-any.whl size=24581 sha256=0db82aaaf08c7256a61a1fd7df4e953c7e8436ab03210402e813fa05317156c3\n",
      "  Stored in directory: /home/shushant/.cache/pip/wheels/f3/51/0f/3f8d940cdb647f9c84197352c2c66b9b910911e112f0bfd340\n",
      "Successfully built demjson bs4 fake-useragent parse\n",
      "Installing collected packages: soupsieve, websockets, urllib3, tqdm, pyee, lxml, importlib-metadata, idna, cssselect, chardet, beautifulsoup4, appdirs, w3lib, tzlocal, requests, regex, pyquery, pyppeteer, parse, fake-useragent, bs4, requests-html, demjson, dateparser, facebook-scraper\n",
      "  Attempting uninstall: importlib-metadata\n",
      "    Found existing installation: importlib-metadata 4.5.0\n",
      "    Uninstalling importlib-metadata-4.5.0:\n",
      "      Successfully uninstalled importlib-metadata-4.5.0\n",
      "Successfully installed appdirs-1.4.4 beautifulsoup4-4.9.3 bs4-0.0.1 chardet-4.0.0 cssselect-1.1.0 dateparser-1.0.0 demjson-2.2.4 facebook-scraper-0.2.43 fake-useragent-0.1.11 idna-2.10 importlib-metadata-2.1.1 lxml-4.6.3 parse-1.19.0 pyee-8.1.0 pyppeteer-0.2.5 pyquery-1.4.3 regex-2021.4.4 requests-2.25.1 requests-html-0.10.0 soupsieve-2.2.1 tqdm-4.61.1 tzlocal-2.1 urllib3-1.26.6 w3lib-1.22.0 websockets-8.1\n"
     ]
    }
   ],
   "source": [
    "!pip install facebook-scraper"
   ]
  },
  {
   "cell_type": "code",
   "execution_count": 9,
   "id": "6c2bd500",
   "metadata": {},
   "outputs": [
    {
     "name": "stdout",
     "output_type": "stream",
     "text": [
      "Real teaching & Practical Education: Students of Samata School, Kathmandu celebrating Ashar 15 by planting paddy in School premises.❤️\n",
      "Opportunity for SEE students: Nepal ko one of the popular college, Uniglobe College- Kamaladi le grade 11 ko lagi scholarship opportunities sahit pre-registration booking open gareko cha ra students h\n",
      "TU Exam Update: Tribhuvan University, Faculty of Management, has published a notice regarding regular final examination for even semesters of BBA, BIM, BBM, BBA-F, BPA, BHM, BMS and BTTM. The exam wil\n",
      "New Case Alert: 1,728 new COVID-19 cases confirmed in Nepal. Now, the total number of COVID-19 confirmed cases in Nepal reached 636,916.\n",
      "\n",
      "Meanwhile, 4,348 COVID-19 patients have recovered in the last \n",
      "Beautiful Sun Halo as seen from Jumla, Nepal. 😍\n",
      "\n",
      "Pic. Dharmen Shahi\n",
      "Medical Entrance Update: CCMC-Nepal has given permission to Medical Education Commission for conducting Common Medical Entrance Exam for Bachelor's level (MBBS, BDS, BSc Nursing etc) starting from Shr\n",
      "Tower craze in Local Government: \"Pen-Shaped\" tower under construction in Khotang's Bagarebhanjyang.\n",
      "\n",
      "Pic: Kedar Magar/RSS\n",
      "आज दही चिउरा क-कसले खानु भयो त? 😍\n",
      "\n",
      "Pic. @sara_waiba\n",
      "Happy birthday to Nepali actor/comedian Kiran KC \" राता मकै\" ❤️\n",
      "Honesty at its best: Journalist Raju Poudel & his friend found a electricity bill with 1050 rupees with it at Kalanki Chowk when they were walking. Raju, checked the bill and used eSewa to pay his bil\n",
      "Amazing: Nepal's Everest Base Camp trek of has been listed in \"The Top 50 Places In The World In 2021\" by Laura Begley Bloom in Forbes Magazine. ❤️\n",
      "\n",
      "File Pic. Pooja Rijal\n",
      "Happy Ashar 15 (धान दिवस)/ दही चिउरा खाने दिन ❤️\n",
      "\n",
      "Pic. Ameet Ranjit\n",
      "Wow.. Lionel Messi made a record by becoming the most capped player for Argentinean National Football team with 148 international matches. He also scores 2 goals as Argentina wins against Bolivia by 4\n",
      "Tuesday Morning and Beautiful art of Lord Ganesh: आजको दिन सबैको मंगलमय होस्। ❤🙏\n",
      "\n",
      "Art. Dpa Gurung\n"
     ]
    }
   ],
   "source": [
    "from facebook_scraper import get_posts\n",
    "\n",
    "for post in get_posts('officialroutineofnepalbanda', pages=4):\n",
    "    print(post['text'][:200])\n"
   ]
  },
  {
   "cell_type": "code",
   "execution_count": null,
   "id": "aabf571c",
   "metadata": {},
   "outputs": [],
   "source": []
  }
 ],
 "metadata": {
  "kernelspec": {
   "display_name": "Python 3",
   "language": "python",
   "name": "python3"
  },
  "language_info": {
   "codemirror_mode": {
    "name": "ipython",
    "version": 3
   },
   "file_extension": ".py",
   "mimetype": "text/x-python",
   "name": "python",
   "nbconvert_exporter": "python",
   "pygments_lexer": "ipython3",
   "version": "3.6.13"
  }
 },
 "nbformat": 4,
 "nbformat_minor": 5
}
