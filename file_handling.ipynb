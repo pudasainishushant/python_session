{
 "cells": [
  {
   "cell_type": "code",
   "execution_count": 5,
   "id": "ced29afd",
   "metadata": {},
   "outputs": [
    {
     "data": {
      "text/plain": [
       "22"
      ]
     },
     "execution_count": 5,
     "metadata": {},
     "output_type": "execute_result"
    }
   ],
   "source": [
    "file1 = open(\"Umesh.txt\",\"w\")\n",
    "file1.write(\"My name is Umesh Karki\")"
   ]
  },
  {
   "cell_type": "code",
   "execution_count": 10,
   "id": "7fc90a22",
   "metadata": {},
   "outputs": [],
   "source": [
    "file2 = open(\"Suzan.txt\",\"a\")\n",
    "file2.write(\"I am Sujan\")\n",
    "file2.close()"
   ]
  },
  {
   "cell_type": "code",
   "execution_count": 11,
   "id": "24e702d1",
   "metadata": {},
   "outputs": [],
   "source": [
    "file3 = open(\"Suzan.txt\",\"r\")\n",
    "tyo_file_ma_vayeko_line = file3.readlines()\n"
   ]
  },
  {
   "cell_type": "code",
   "execution_count": 12,
   "id": "bfe5e714",
   "metadata": {},
   "outputs": [
    {
     "data": {
      "text/plain": [
       "['I am learning pythonI am Sujan']"
      ]
     },
     "execution_count": 12,
     "metadata": {},
     "output_type": "execute_result"
    }
   ],
   "source": [
    "tyo_file_ma_vayeko_line"
   ]
  },
  {
   "cell_type": "markdown",
   "id": "53fe0f30",
   "metadata": {},
   "source": [
    "## Working with json files"
   ]
  },
  {
   "cell_type": "code",
   "execution_count": 14,
   "id": "2a97a440",
   "metadata": {},
   "outputs": [],
   "source": [
    "student_data = {\n",
    "    \"name\":\"Umesh\",\n",
    "    \"roll no\":\"1\",\n",
    "    \"contact\":\"9845632145\",\n",
    "    \"Percentage\":\"80%\"\n",
    "}"
   ]
  },
  {
   "cell_type": "code",
   "execution_count": 15,
   "id": "28ed54a2",
   "metadata": {},
   "outputs": [],
   "source": [
    "import json"
   ]
  },
  {
   "cell_type": "code",
   "execution_count": 16,
   "id": "d819e829",
   "metadata": {},
   "outputs": [],
   "source": [
    "json_object_for_student_data = json.dumps(student_data,indent = 4)"
   ]
  },
  {
   "cell_type": "code",
   "execution_count": 18,
   "id": "6dfa7110",
   "metadata": {},
   "outputs": [],
   "source": [
    "json_file = open(\"student_dataa.json\",\"w\")\n",
    "json_file.write(json_object_for_student_data)\n",
    "json_file.close()"
   ]
  },
  {
   "cell_type": "code",
   "execution_count": 19,
   "id": "607d3f91",
   "metadata": {},
   "outputs": [],
   "source": [
    "import json\n",
    "with open(\"student_dataa.json\",\"r\") as file:\n",
    "    json_object = json.load(file)\n"
   ]
  },
  {
   "cell_type": "code",
   "execution_count": 20,
   "id": "4b103b5c",
   "metadata": {},
   "outputs": [
    {
     "data": {
      "text/plain": [
       "{'name': 'Umesh',\n",
       " 'roll no': '1',\n",
       " 'contact': '9845632145',\n",
       " 'Percentage': '80%',\n",
       " 'Address': 'Sydney'}"
      ]
     },
     "execution_count": 20,
     "metadata": {},
     "output_type": "execute_result"
    }
   ],
   "source": [
    "json_object"
   ]
  },
  {
   "cell_type": "code",
   "execution_count": 21,
   "id": "a4f674a8",
   "metadata": {},
   "outputs": [],
   "source": [
    "import json\n",
    "score_ko_file = open(\"scores.json\",\"r\")\n",
    "score = json.load(score_ko_file)"
   ]
  },
  {
   "cell_type": "code",
   "execution_count": 24,
   "id": "92f576aa",
   "metadata": {},
   "outputs": [
    {
     "data": {
      "text/plain": [
       "{'country_name': 'India',\n",
       " 'opppnenet_country_name': 'Nepal',\n",
       " 'matchday': '2020-06-04',\n",
       " 'score': '1-3',\n",
       " 'winner': 'Nepal'}"
      ]
     },
     "execution_count": 24,
     "metadata": {},
     "output_type": "execute_result"
    }
   ],
   "source": [
    "score"
   ]
  },
  {
   "cell_type": "code",
   "execution_count": null,
   "id": "670fe96c",
   "metadata": {},
   "outputs": [],
   "source": []
  }
 ],
 "metadata": {
  "kernelspec": {
   "display_name": "Python 3",
   "language": "python",
   "name": "python3"
  },
  "language_info": {
   "codemirror_mode": {
    "name": "ipython",
    "version": 3
   },
   "file_extension": ".py",
   "mimetype": "text/x-python",
   "name": "python",
   "nbconvert_exporter": "python",
   "pygments_lexer": "ipython3",
   "version": "3.8.8"
  }
 },
 "nbformat": 4,
 "nbformat_minor": 5
}
