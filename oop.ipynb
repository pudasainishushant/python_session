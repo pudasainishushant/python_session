{
 "cells": [
  {
   "cell_type": "code",
   "execution_count": 1,
   "id": "86c3d6c7",
   "metadata": {},
   "outputs": [
    {
     "data": {
      "text/plain": [
       "int"
      ]
     },
     "execution_count": 1,
     "metadata": {},
     "output_type": "execute_result"
    }
   ],
   "source": [
    "x = 1\n",
    "type(x)"
   ]
  },
  {
   "cell_type": "code",
   "execution_count": 2,
   "id": "2ebb6f0c",
   "metadata": {},
   "outputs": [],
   "source": [
    "def hello():\n",
    "    print(\"hello\")"
   ]
  },
  {
   "cell_type": "code",
   "execution_count": 3,
   "id": "e05c6e44",
   "metadata": {},
   "outputs": [
    {
     "name": "stdout",
     "output_type": "stream",
     "text": [
      "<class 'function'>\n"
     ]
    }
   ],
   "source": [
    "print(type(hello))"
   ]
  },
  {
   "cell_type": "markdown",
   "id": "cab6b414",
   "metadata": {},
   "source": [
    "\"\"\"\n",
    "class class_name:\n",
    "    def bark():\n",
    "    print(\"bark\")\n",
    "\"\"\""
   ]
  },
  {
   "cell_type": "code",
   "execution_count": 13,
   "id": "7fbc84d1",
   "metadata": {},
   "outputs": [],
   "source": [
    "def add_num(a,b):\n",
    "    return a + b"
   ]
  },
  {
   "cell_type": "code",
   "execution_count": 14,
   "id": "ca7f9966",
   "metadata": {},
   "outputs": [],
   "source": [
    "r = add_num(2,3)"
   ]
  },
  {
   "cell_type": "code",
   "execution_count": 15,
   "id": "924af28a",
   "metadata": {},
   "outputs": [
    {
     "data": {
      "text/plain": [
       "5"
      ]
     },
     "execution_count": 15,
     "metadata": {},
     "output_type": "execute_result"
    }
   ],
   "source": [
    "r"
   ]
  },
  {
   "cell_type": "code",
   "execution_count": 30,
   "id": "e44047b3",
   "metadata": {},
   "outputs": [],
   "source": [
    "class Man:\n",
    "    def __init__(self,name):\n",
    "        self.name = \"Mr\" + name\n",
    "        print(\"Yo init method ma vako kura object create huda kheri ruun hunxa\")\n",
    "\n",
    "    def add_one(self,x):\n",
    "        return x +1\n",
    "    "
   ]
  },
  {
   "cell_type": "code",
   "execution_count": 31,
   "id": "38254076",
   "metadata": {},
   "outputs": [
    {
     "name": "stdout",
     "output_type": "stream",
     "text": [
      "Yo init method ma vako kura object create huda kheri ruun hunxa\n"
     ]
    }
   ],
   "source": [
    "m = Man(\"Umesh\")"
   ]
  },
  {
   "cell_type": "code",
   "execution_count": 33,
   "id": "68f62ef6",
   "metadata": {},
   "outputs": [
    {
     "data": {
      "text/plain": [
       "'MrUmesh'"
      ]
     },
     "execution_count": 33,
     "metadata": {},
     "output_type": "execute_result"
    }
   ],
   "source": [
    "m.name"
   ]
  },
  {
   "cell_type": "code",
   "execution_count": 36,
   "id": "8f839402",
   "metadata": {},
   "outputs": [
    {
     "name": "stdout",
     "output_type": "stream",
     "text": [
      "Yo init method ma vako kura object create huda kheri ruun hunxa\n"
     ]
    }
   ],
   "source": [
    "c = Man(\"Sujan\")"
   ]
  },
  {
   "cell_type": "code",
   "execution_count": 37,
   "id": "cb68f8a0",
   "metadata": {},
   "outputs": [
    {
     "data": {
      "text/plain": [
       "'MrSujan'"
      ]
     },
     "execution_count": 37,
     "metadata": {},
     "output_type": "execute_result"
    }
   ],
   "source": [
    "c.name"
   ]
  },
  {
   "cell_type": "code",
   "execution_count": 85,
   "id": "0e74577e",
   "metadata": {},
   "outputs": [],
   "source": [
    "class Student:\n",
    "    def __init__(self,name,age,marks):\n",
    "        self.name = name\n",
    "        self.age = age\n",
    "        self.marks =  marks\n",
    "    \n",
    "    def get_division(self):\n",
    "        if self.marks>80:\n",
    "            return \"Distinction\"\n",
    "        elif self.marks>60:\n",
    "            return \"First Division\"\n",
    "        elif self.marks>40:\n",
    "            return \"Second Di\"\n",
    "        else:\n",
    "            return \"Failed\"\n"
   ]
  },
  {
   "cell_type": "code",
   "execution_count": 75,
   "id": "5c67c0c1",
   "metadata": {},
   "outputs": [],
   "source": [
    "\n",
    "class Course:\n",
    "    def __init__(self,name,max_students):\n",
    "        self.name = name\n",
    "        self.max_students = max_students\n",
    "        self.students = []\n",
    "#         self.student_ko_marks_ko_average = 50\n",
    "    \n",
    "    def add_student(self,student):\n",
    "        if len(self.students) < self.max_students:\n",
    "            self.students.append(student)\n",
    "            return True\n",
    "        else:\n",
    "            return False\n",
    "    \n",
    "    def get_average_marks(self):\n",
    "        value = 0\n",
    "        for student in self.students:\n",
    "            value += student.marks\n",
    "        \n",
    "        average_marks = value/len(self.students)\n",
    "        return average_marks\n",
    "    \n",
    "    "
   ]
  },
  {
   "cell_type": "code",
   "execution_count": 76,
   "id": "ed687dce",
   "metadata": {},
   "outputs": [],
   "source": [
    "s1 = Student(\"Umesh\",19,90)\n",
    "s2 = Student(\"Sujan\",18,95)\n",
    "# s3 = Student(\"sita\",17,78)"
   ]
  },
  {
   "cell_type": "code",
   "execution_count": 77,
   "id": "49b97c52",
   "metadata": {},
   "outputs": [],
   "source": [
    "python_course = Course(\"Python\",2)"
   ]
  },
  {
   "cell_type": "code",
   "execution_count": 78,
   "id": "7eaa04c7",
   "metadata": {},
   "outputs": [
    {
     "data": {
      "text/plain": [
       "True"
      ]
     },
     "execution_count": 78,
     "metadata": {},
     "output_type": "execute_result"
    }
   ],
   "source": [
    "python_course.add_student(s1)\n",
    "python_course.add_student(s2)"
   ]
  },
  {
   "cell_type": "code",
   "execution_count": 79,
   "id": "17f06de8",
   "metadata": {},
   "outputs": [
    {
     "data": {
      "text/plain": [
       "[<__main__.Student at 0x7f61043ddcf8>, <__main__.Student at 0x7f61043dd908>]"
      ]
     },
     "execution_count": 79,
     "metadata": {},
     "output_type": "execute_result"
    }
   ],
   "source": [
    "python_course.students"
   ]
  },
  {
   "cell_type": "code",
   "execution_count": 80,
   "id": "ccccb26f",
   "metadata": {
    "scrolled": true
   },
   "outputs": [
    {
     "data": {
      "text/plain": [
       "'Sujan'"
      ]
     },
     "execution_count": 80,
     "metadata": {},
     "output_type": "execute_result"
    }
   ],
   "source": [
    "python_course.students[1].name"
   ]
  },
  {
   "cell_type": "code",
   "execution_count": 81,
   "id": "b21efa6c",
   "metadata": {},
   "outputs": [],
   "source": [
    "s3 = Student(\"sita\",17,78)"
   ]
  },
  {
   "cell_type": "code",
   "execution_count": 82,
   "id": "eba18f59",
   "metadata": {},
   "outputs": [
    {
     "data": {
      "text/plain": [
       "False"
      ]
     },
     "execution_count": 82,
     "metadata": {},
     "output_type": "execute_result"
    }
   ],
   "source": [
    "python_course.add_student(s3)"
   ]
  },
  {
   "cell_type": "code",
   "execution_count": 83,
   "id": "60a99fdf",
   "metadata": {},
   "outputs": [],
   "source": [
    "avg = python_course.get_average_marks()"
   ]
  },
  {
   "cell_type": "code",
   "execution_count": 84,
   "id": "1fedc913",
   "metadata": {},
   "outputs": [
    {
     "data": {
      "text/plain": [
       "92.5"
      ]
     },
     "execution_count": 84,
     "metadata": {},
     "output_type": "execute_result"
    }
   ],
   "source": [
    "avg"
   ]
  },
  {
   "cell_type": "code",
   "execution_count": null,
   "id": "f1744e34",
   "metadata": {},
   "outputs": [],
   "source": []
  }
 ],
 "metadata": {
  "kernelspec": {
   "display_name": "Python 3",
   "language": "python",
   "name": "python3"
  },
  "language_info": {
   "codemirror_mode": {
    "name": "ipython",
    "version": 3
   },
   "file_extension": ".py",
   "mimetype": "text/x-python",
   "name": "python",
   "nbconvert_exporter": "python",
   "pygments_lexer": "ipython3",
   "version": "3.6.13"
  }
 },
 "nbformat": 4,
 "nbformat_minor": 5
}
