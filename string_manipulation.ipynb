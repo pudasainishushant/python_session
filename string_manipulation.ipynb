{
 "cells": [
  {
   "cell_type": "code",
   "execution_count": 1,
   "id": "d5590de4",
   "metadata": {},
   "outputs": [
    {
     "data": {
      "text/plain": [
       "'Umesh'"
      ]
     },
     "execution_count": 1,
     "metadata": {},
     "output_type": "execute_result"
    }
   ],
   "source": [
    "\"Umesh\""
   ]
  },
  {
   "cell_type": "code",
   "execution_count": 2,
   "id": "77e9ca8f",
   "metadata": {},
   "outputs": [
    {
     "data": {
      "text/plain": [
       "'Umesh'"
      ]
     },
     "execution_count": 2,
     "metadata": {},
     "output_type": "execute_result"
    }
   ],
   "source": [
    "'Umesh'"
   ]
  },
  {
   "cell_type": "code",
   "execution_count": 3,
   "id": "ce557d0e",
   "metadata": {},
   "outputs": [
    {
     "data": {
      "text/plain": [
       "'U m e s h'"
      ]
     },
     "execution_count": 3,
     "metadata": {},
     "output_type": "execute_result"
    }
   ],
   "source": [
    "'U m e s h'"
   ]
  },
  {
   "cell_type": "code",
   "execution_count": 4,
   "id": "f57d8aa9",
   "metadata": {},
   "outputs": [
    {
     "data": {
      "text/plain": [
       "'@43nds'"
      ]
     },
     "execution_count": 4,
     "metadata": {},
     "output_type": "execute_result"
    }
   ],
   "source": [
    "\"@43nds\""
   ]
  },
  {
   "cell_type": "code",
   "execution_count": 5,
   "id": "f0ffcc12",
   "metadata": {},
   "outputs": [],
   "source": [
    "name = \"Umesh\""
   ]
  },
  {
   "cell_type": "code",
   "execution_count": 6,
   "id": "293f26f1",
   "metadata": {},
   "outputs": [
    {
     "name": "stdout",
     "output_type": "stream",
     "text": [
      "Umesh\n"
     ]
    }
   ],
   "source": [
    "print(name)"
   ]
  },
  {
   "cell_type": "markdown",
   "id": "090c273b",
   "metadata": {},
   "source": [
    "Indexing in strings"
   ]
  },
  {
   "cell_type": "code",
   "execution_count": 8,
   "id": "9fabe5bb",
   "metadata": {},
   "outputs": [
    {
     "data": {
      "text/plain": [
       "'h'"
      ]
     },
     "execution_count": 8,
     "metadata": {},
     "output_type": "execute_result"
    }
   ],
   "source": [
    "name[4]"
   ]
  },
  {
   "cell_type": "code",
   "execution_count": 9,
   "id": "0521cd1e",
   "metadata": {},
   "outputs": [
    {
     "data": {
      "text/plain": [
       "'h'"
      ]
     },
     "execution_count": 9,
     "metadata": {},
     "output_type": "execute_result"
    }
   ],
   "source": [
    "name[-1]"
   ]
  },
  {
   "cell_type": "code",
   "execution_count": 11,
   "id": "1b02ab01",
   "metadata": {},
   "outputs": [],
   "source": [
    "name = \"Umesh Karki\""
   ]
  },
  {
   "cell_type": "code",
   "execution_count": 12,
   "id": "f1802eea",
   "metadata": {},
   "outputs": [
    {
     "data": {
      "text/plain": [
       "'Umesh'"
      ]
     },
     "execution_count": 12,
     "metadata": {},
     "output_type": "execute_result"
    }
   ],
   "source": [
    "name[0:5]"
   ]
  },
  {
   "cell_type": "code",
   "execution_count": 13,
   "id": "955c2ffe",
   "metadata": {},
   "outputs": [],
   "source": [
    "fname = \"Umesh\"\n",
    "lname = \"Karki\"\n",
    "full_name = fname + lname"
   ]
  },
  {
   "cell_type": "code",
   "execution_count": 19,
   "id": "f38bfa86",
   "metadata": {},
   "outputs": [
    {
     "name": "stdout",
     "output_type": "stream",
     "text": [
      "My name is Sujan.\n"
     ]
    }
   ],
   "source": [
    "string1 = \"My name is Umesh.\"\n",
    "string1_replaced = string1.replace(\"Umesh\",\"Sujan\")\n",
    "print(string1_replaced)"
   ]
  },
  {
   "cell_type": "code",
   "execution_count": 21,
   "id": "5fcca751",
   "metadata": {},
   "outputs": [
    {
     "data": {
      "text/plain": [
       "11"
      ]
     },
     "execution_count": 21,
     "metadata": {},
     "output_type": "execute_result"
    }
   ],
   "source": [
    "string1.find(\"Umesh\")"
   ]
  },
  {
   "cell_type": "code",
   "execution_count": 22,
   "id": "ab81be17",
   "metadata": {},
   "outputs": [],
   "source": [
    "condition1 = True"
   ]
  },
  {
   "cell_type": "code",
   "execution_count": 23,
   "id": "45ed956c",
   "metadata": {},
   "outputs": [
    {
     "data": {
      "text/plain": [
       "bool"
      ]
     },
     "execution_count": 23,
     "metadata": {},
     "output_type": "execute_result"
    }
   ],
   "source": [
    "type(condition1)"
   ]
  },
  {
   "cell_type": "code",
   "execution_count": null,
   "id": "542ea4fa",
   "metadata": {},
   "outputs": [],
   "source": []
  }
 ],
 "metadata": {
  "kernelspec": {
   "display_name": "Python 3",
   "language": "python",
   "name": "python3"
  },
  "language_info": {
   "codemirror_mode": {
    "name": "ipython",
    "version": 3
   },
   "file_extension": ".py",
   "mimetype": "text/x-python",
   "name": "python",
   "nbconvert_exporter": "python",
   "pygments_lexer": "ipython3",
   "version": "3.6.13"
  }
 },
 "nbformat": 4,
 "nbformat_minor": 5
}
