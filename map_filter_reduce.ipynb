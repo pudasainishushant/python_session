{
 "cells": [
  {
   "cell_type": "code",
   "execution_count": 7,
   "id": "62806b29",
   "metadata": {},
   "outputs": [],
   "source": [
    "import math"
   ]
  },
  {
   "cell_type": "code",
   "execution_count": 8,
   "id": "4644afaa",
   "metadata": {},
   "outputs": [],
   "source": [
    "def caclulate_area(r):\n",
    "    area_result = math.pi * (r**2)\n",
    "    return area_result"
   ]
  },
  {
   "cell_type": "code",
   "execution_count": 9,
   "id": "c35d80da",
   "metadata": {},
   "outputs": [],
   "source": [
    "radii= [2,4,5,6,7]"
   ]
  },
  {
   "cell_type": "code",
   "execution_count": 15,
   "id": "a7320418",
   "metadata": {},
   "outputs": [
    {
     "name": "stdout",
     "output_type": "stream",
     "text": [
      "[12.566370614359172, 50.26548245743669, 78.53981633974483, 113.09733552923255, 153.93804002589985]\n",
      "CPU times: user 716 µs, sys: 0 ns, total: 716 µs\n",
      "Wall time: 823 µs\n"
     ]
    }
   ],
   "source": [
    "%%time\n",
    "areas= []\n",
    "\n",
    "for r in radii:\n",
    "    a = caclulate_area(r)\n",
    "    areas.append(a)\n",
    "\n",
    "print(areas)"
   ]
  },
  {
   "cell_type": "markdown",
   "id": "6fa8d12a",
   "metadata": {},
   "source": [
    "## Map Function"
   ]
  },
  {
   "cell_type": "code",
   "execution_count": 16,
   "id": "9d2519bf",
   "metadata": {},
   "outputs": [
    {
     "name": "stdout",
     "output_type": "stream",
     "text": [
      "CPU times: user 27 µs, sys: 3 µs, total: 30 µs\n",
      "Wall time: 38.9 µs\n"
     ]
    },
    {
     "data": {
      "text/plain": [
       "[12.566370614359172,\n",
       " 50.26548245743669,\n",
       " 78.53981633974483,\n",
       " 113.09733552923255,\n",
       " 153.93804002589985]"
      ]
     },
     "execution_count": 16,
     "metadata": {},
     "output_type": "execute_result"
    }
   ],
   "source": [
    "%%time\n",
    "list(map(caclulate_area,radii))"
   ]
  },
  {
   "cell_type": "code",
   "execution_count": 40,
   "id": "ffe1f55b",
   "metadata": {},
   "outputs": [],
   "source": [
    "temps = [(\"Berlin\",29),(\"Cairo\",36),(\"Buenous Aires\",19),(\"Kathmandu\",30)]"
   ]
  },
  {
   "cell_type": "code",
   "execution_count": 34,
   "id": "843d353f",
   "metadata": {},
   "outputs": [],
   "source": [
    "temps_dict = {\"Berlin\":29,\"Cairo\":36,\"Beunous Aires\":19,\"Kathmandu\":30}"
   ]
  },
  {
   "cell_type": "code",
   "execution_count": 35,
   "id": "b334c490",
   "metadata": {},
   "outputs": [
    {
     "data": {
      "text/plain": [
       "[('Berlin', 84.2),\n",
       " ('Cairo', 96.8),\n",
       " ('Beunous Aires', 66.2),\n",
       " ('Kathmandu', 86.0)]"
      ]
     },
     "execution_count": 35,
     "metadata": {},
     "output_type": "execute_result"
    }
   ],
   "source": [
    "list(map(c_to_f,temps_dict.items()))"
   ]
  },
  {
   "cell_type": "code",
   "execution_count": 23,
   "id": "3f886b10",
   "metadata": {},
   "outputs": [
    {
     "name": "stdout",
     "output_type": "stream",
     "text": [
      "('Berlin', 29)\n",
      "('Cairo', 36)\n",
      "('Buenous Aires', 19)\n",
      "('Kathmandu', 30)\n"
     ]
    }
   ],
   "source": [
    "for data in temps:\n",
    "    print(data)"
   ]
  },
  {
   "cell_type": "code",
   "execution_count": 41,
   "id": "0cc303c4",
   "metadata": {},
   "outputs": [],
   "source": [
    "def c_to_f(city_and_temp):\n",
    "    city = city_and_temp[0]\n",
    "    temp_in_c = city_and_temp[1]\n",
    "    temp_in_f = (9/5) * temp_in_c + 32\n",
    "    return(city,temp_in_f)\n",
    "\n",
    "c_to_f_lambda = lambda city_and_temp:(city_and_temp[0],(9/5) * city_and_temp[1] + 32)"
   ]
  },
  {
   "cell_type": "code",
   "execution_count": 42,
   "id": "d1c926ad",
   "metadata": {},
   "outputs": [
    {
     "name": "stdout",
     "output_type": "stream",
     "text": [
      "CPU times: user 59 µs, sys: 10 µs, total: 69 µs\n",
      "Wall time: 78 µs\n"
     ]
    },
    {
     "data": {
      "text/plain": [
       "[('Berlin', 84.2),\n",
       " ('Cairo', 96.8),\n",
       " ('Buenous Aires', 66.2),\n",
       " ('Kathmandu', 86.0)]"
      ]
     },
     "execution_count": 42,
     "metadata": {},
     "output_type": "execute_result"
    }
   ],
   "source": [
    "%%time\n",
    "final_list = []\n",
    "for data in temps:\n",
    "    converted = c_to_f(data)\n",
    "    final_list.append(converted)\n",
    "final_list"
   ]
  },
  {
   "cell_type": "code",
   "execution_count": 43,
   "id": "26269b99",
   "metadata": {},
   "outputs": [
    {
     "name": "stdout",
     "output_type": "stream",
     "text": [
      "CPU times: user 13 µs, sys: 2 µs, total: 15 µs\n",
      "Wall time: 20.5 µs\n"
     ]
    },
    {
     "data": {
      "text/plain": [
       "[('Berlin', 84.2),\n",
       " ('Cairo', 96.8),\n",
       " ('Buenous Aires', 66.2),\n",
       " ('Kathmandu', 86.0)]"
      ]
     },
     "execution_count": 43,
     "metadata": {},
     "output_type": "execute_result"
    }
   ],
   "source": [
    "%%time\n",
    "list(map(c_to_f_lambda,temps))"
   ]
  },
  {
   "cell_type": "code",
   "execution_count": null,
   "id": "653103c1",
   "metadata": {},
   "outputs": [],
   "source": []
  },
  {
   "cell_type": "code",
   "execution_count": 46,
   "id": "9d6d8ecb",
   "metadata": {},
   "outputs": [
    {
     "data": {
      "text/plain": [
       "[4, 9, 16, 25, 36, 49, 64]"
      ]
     },
     "execution_count": 46,
     "metadata": {},
     "output_type": "execute_result"
    }
   ],
   "source": [
    "numbers = [2,3,4,5,6,7,8]\n",
    "squares = []\n",
    "for num in numbers:\n",
    "    squares.append(num*num)\n",
    "squares\n",
    "    "
   ]
  },
  {
   "cell_type": "code",
   "execution_count": 47,
   "id": "baba7f39",
   "metadata": {},
   "outputs": [],
   "source": [
    "def square_num(num):\n",
    "    return num*num\n",
    "\n"
   ]
  },
  {
   "cell_type": "code",
   "execution_count": 49,
   "id": "09fbbf5a",
   "metadata": {},
   "outputs": [
    {
     "data": {
      "text/plain": [
       "[4, 9, 16, 25, 36, 49, 64]"
      ]
     },
     "execution_count": 49,
     "metadata": {},
     "output_type": "execute_result"
    }
   ],
   "source": [
    "list(map(lambda num:num*num ,numbers))"
   ]
  },
  {
   "cell_type": "markdown",
   "id": "291b7063",
   "metadata": {},
   "source": [
    "## Filter"
   ]
  },
  {
   "cell_type": "code",
   "execution_count": 20,
   "id": "a51c779a",
   "metadata": {},
   "outputs": [],
   "source": [
    "letters = ['a','b','c','d','e','f']\n"
   ]
  },
  {
   "cell_type": "code",
   "execution_count": 21,
   "id": "deaf947e",
   "metadata": {},
   "outputs": [],
   "source": [
    "def vowel_check(letter):\n",
    "    vowels = ['a','e','i','o','u']\n",
    "    if (letter in vowels):\n",
    "        return True\n",
    "    else:\n",
    "        return False"
   ]
  },
  {
   "cell_type": "code",
   "execution_count": 22,
   "id": "b4bd5bbf",
   "metadata": {},
   "outputs": [],
   "source": [
    "vowels = list(filter(vowel_check,letters))"
   ]
  },
  {
   "cell_type": "code",
   "execution_count": 29,
   "id": "8d99e6b1",
   "metadata": {},
   "outputs": [],
   "source": [
    "def check_odd(num):\n",
    "    if num %2 != 0:\n",
    "        return True\n",
    "    else: \n",
    "        False"
   ]
  },
  {
   "cell_type": "code",
   "execution_count": 30,
   "id": "2ed37ab4",
   "metadata": {},
   "outputs": [],
   "source": [
    "numbers = [19,58,56,78,32]\n",
    "odd_number = list(filter(check_odd,numbers))\n",
    "even_number = list(filter(lambda x: x%2 == 0,numbers))"
   ]
  },
  {
   "cell_type": "code",
   "execution_count": 31,
   "id": "38cff91a",
   "metadata": {},
   "outputs": [
    {
     "data": {
      "text/plain": [
       "[19]"
      ]
     },
     "execution_count": 31,
     "metadata": {},
     "output_type": "execute_result"
    }
   ],
   "source": [
    "odd_number"
   ]
  },
  {
   "cell_type": "code",
   "execution_count": 28,
   "id": "bddcd0a6",
   "metadata": {},
   "outputs": [
    {
     "data": {
      "text/plain": [
       "[58, 56, 78, 32]"
      ]
     },
     "execution_count": 28,
     "metadata": {},
     "output_type": "execute_result"
    }
   ],
   "source": [
    "even_number"
   ]
  },
  {
   "cell_type": "code",
   "execution_count": 32,
   "id": "c367b7b2",
   "metadata": {},
   "outputs": [],
   "source": [
    "# Reduce"
   ]
  },
  {
   "cell_type": "code",
   "execution_count": 36,
   "id": "5b0feaec",
   "metadata": {},
   "outputs": [],
   "source": [
    "from functools import reduce"
   ]
  },
  {
   "cell_type": "code",
   "execution_count": 42,
   "id": "e29226ee",
   "metadata": {},
   "outputs": [
    {
     "data": {
      "text/plain": [
       "362880"
      ]
     },
     "execution_count": 42,
     "metadata": {},
     "output_type": "execute_result"
    }
   ],
   "source": [
    "2*3*4*5*6*7*8*9"
   ]
  },
  {
   "cell_type": "code",
   "execution_count": 37,
   "id": "8e54a3fa",
   "metadata": {},
   "outputs": [],
   "source": [
    "data = [2,3,4,5,6,7,8,9]"
   ]
  },
  {
   "cell_type": "code",
   "execution_count": 40,
   "id": "62ee173f",
   "metadata": {},
   "outputs": [],
   "source": [
    "product = 1\n",
    "for x in data:\n",
    "    product = product *x"
   ]
  },
  {
   "cell_type": "code",
   "execution_count": 41,
   "id": "5d0e32ae",
   "metadata": {},
   "outputs": [
    {
     "data": {
      "text/plain": [
       "362880"
      ]
     },
     "execution_count": 41,
     "metadata": {},
     "output_type": "execute_result"
    }
   ],
   "source": [
    "product"
   ]
  },
  {
   "cell_type": "code",
   "execution_count": 43,
   "id": "5e88be16",
   "metadata": {},
   "outputs": [],
   "source": [
    "multiplier = lambda x,y:x*y"
   ]
  },
  {
   "cell_type": "code",
   "execution_count": 49,
   "id": "cad94805",
   "metadata": {},
   "outputs": [
    {
     "data": {
      "text/plain": [
       "362880"
      ]
     },
     "execution_count": 49,
     "metadata": {},
     "output_type": "execute_result"
    }
   ],
   "source": [
    "reduce(operator.mul,data)"
   ]
  },
  {
   "cell_type": "code",
   "execution_count": 51,
   "id": "72420e84",
   "metadata": {},
   "outputs": [
    {
     "data": {
      "text/plain": [
       "'SujanBudathoki'"
      ]
     },
     "execution_count": 51,
     "metadata": {},
     "output_type": "execute_result"
    }
   ],
   "source": [
    "reduce(operator.add,['Sujan',\"Budathoki\"])"
   ]
  },
  {
   "cell_type": "code",
   "execution_count": 45,
   "id": "144b28ae",
   "metadata": {},
   "outputs": [],
   "source": [
    "import operator"
   ]
  },
  {
   "cell_type": "code",
   "execution_count": 48,
   "id": "7ca29b0b",
   "metadata": {},
   "outputs": [
    {
     "data": {
      "text/plain": [
       "6"
      ]
     },
     "execution_count": 48,
     "metadata": {},
     "output_type": "execute_result"
    }
   ],
   "source": [
    "operator.mul(2,3)"
   ]
  },
  {
   "cell_type": "code",
   "execution_count": 52,
   "id": "a460c435",
   "metadata": {},
   "outputs": [
    {
     "data": {
      "text/plain": [
       "5"
      ]
     },
     "execution_count": 52,
     "metadata": {},
     "output_type": "execute_result"
    }
   ],
   "source": [
    "2 + 3"
   ]
  },
  {
   "cell_type": "code",
   "execution_count": 53,
   "id": "ff065a07",
   "metadata": {},
   "outputs": [
    {
     "data": {
      "text/plain": [
       "'23'"
      ]
     },
     "execution_count": 53,
     "metadata": {},
     "output_type": "execute_result"
    }
   ],
   "source": [
    "\"2\" + \"3\""
   ]
  },
  {
   "cell_type": "code",
   "execution_count": 54,
   "id": "db100919",
   "metadata": {},
   "outputs": [
    {
     "data": {
      "text/plain": [
       "6.8"
      ]
     },
     "execution_count": 54,
     "metadata": {},
     "output_type": "execute_result"
    }
   ],
   "source": [
    "2.3 + 4.5"
   ]
  },
  {
   "cell_type": "markdown",
   "id": "bfd3349d",
   "metadata": {},
   "source": [
    "# List comprehension"
   ]
  },
  {
   "cell_type": "code",
   "execution_count": 89,
   "id": "fcf9c83e",
   "metadata": {},
   "outputs": [
    {
     "data": {
      "text/plain": [
       "True"
      ]
     },
     "execution_count": 89,
     "metadata": {},
     "output_type": "execute_result"
    }
   ],
   "source": [
    "\"umesh\".islower()"
   ]
  },
  {
   "cell_type": "code",
   "execution_count": 55,
   "id": "75b3c9e4",
   "metadata": {},
   "outputs": [],
   "source": [
    "names = [\"SUZAN\",\"BUDATHOKI\",\"UMESH\",\"KC\"]"
   ]
  },
  {
   "cell_type": "code",
   "execution_count": 64,
   "id": "ce8be9b1",
   "metadata": {},
   "outputs": [],
   "source": [
    "low_names = []\n",
    "for name in names:\n",
    "    low_names.append(name.lower())"
   ]
  },
  {
   "cell_type": "code",
   "execution_count": 58,
   "id": "128885f7",
   "metadata": {},
   "outputs": [
    {
     "data": {
      "text/plain": [
       "['suzan', 'budathoki', 'umesh', 'kc']"
      ]
     },
     "execution_count": 58,
     "metadata": {},
     "output_type": "execute_result"
    }
   ],
   "source": [
    "low_names"
   ]
  },
  {
   "cell_type": "code",
   "execution_count": 61,
   "id": "ea22f5ae",
   "metadata": {},
   "outputs": [],
   "source": [
    "l_names = [name.lower() for name in names]"
   ]
  },
  {
   "cell_type": "code",
   "execution_count": 62,
   "id": "58ec5ce3",
   "metadata": {},
   "outputs": [
    {
     "data": {
      "text/plain": [
       "['Suzan', 'Budathoki', 'Umesh', 'Kc']"
      ]
     },
     "execution_count": 62,
     "metadata": {},
     "output_type": "execute_result"
    }
   ],
   "source": [
    "l_names"
   ]
  },
  {
   "cell_type": "code",
   "execution_count": 68,
   "id": "9f1d7483",
   "metadata": {},
   "outputs": [],
   "source": [
    "numbers = [2,3,4,5,6,7,8]"
   ]
  },
  {
   "cell_type": "code",
   "execution_count": 81,
   "id": "bfa8c3c9",
   "metadata": {},
   "outputs": [],
   "source": [
    "sqaure_odd_number_ko_list = [num*num for num in numbers if num%2!=0]"
   ]
  },
  {
   "cell_type": "code",
   "execution_count": 82,
   "id": "ce7e50b7",
   "metadata": {},
   "outputs": [
    {
     "data": {
      "text/plain": [
       "[9, 25, 49]"
      ]
     },
     "execution_count": 82,
     "metadata": {},
     "output_type": "execute_result"
    }
   ],
   "source": [
    "sqaure_odd_number_ko_list"
   ]
  },
  {
   "cell_type": "code",
   "execution_count": 83,
   "id": "750e53fe",
   "metadata": {},
   "outputs": [],
   "source": [
    "even_square = [n * n for n in numbers if n%2==0 ]"
   ]
  },
  {
   "cell_type": "code",
   "execution_count": 84,
   "id": "d21105e4",
   "metadata": {},
   "outputs": [
    {
     "data": {
      "text/plain": [
       "[4, 16, 36, 64]"
      ]
     },
     "execution_count": 84,
     "metadata": {},
     "output_type": "execute_result"
    }
   ],
   "source": [
    "even_square"
   ]
  },
  {
   "cell_type": "code",
   "execution_count": 70,
   "id": "0ee16f5e",
   "metadata": {},
   "outputs": [],
   "source": [
    "squares = [num*num for num in numbers]"
   ]
  },
  {
   "cell_type": "code",
   "execution_count": 72,
   "id": "4a4283da",
   "metadata": {},
   "outputs": [
    {
     "data": {
      "text/plain": [
       "[4, 9, 16, 25, 36, 49, 64]"
      ]
     },
     "execution_count": 72,
     "metadata": {},
     "output_type": "execute_result"
    }
   ],
   "source": [
    "squares"
   ]
  },
  {
   "cell_type": "code",
   "execution_count": 75,
   "id": "6b314dde",
   "metadata": {},
   "outputs": [],
   "source": [
    "odd = [num for num in numbers if num%2 !=0]"
   ]
  },
  {
   "cell_type": "code",
   "execution_count": 76,
   "id": "de078518",
   "metadata": {},
   "outputs": [
    {
     "data": {
      "text/plain": [
       "[3, 5, 7]"
      ]
     },
     "execution_count": 76,
     "metadata": {},
     "output_type": "execute_result"
    }
   ],
   "source": [
    "odd"
   ]
  },
  {
   "cell_type": "code",
   "execution_count": 79,
   "id": "61ae8510",
   "metadata": {},
   "outputs": [],
   "source": [
    "even = [num for num in numbers if num%2==0]"
   ]
  },
  {
   "cell_type": "code",
   "execution_count": 80,
   "id": "223faf78",
   "metadata": {},
   "outputs": [
    {
     "data": {
      "text/plain": [
       "[2, 4, 6, 8]"
      ]
     },
     "execution_count": 80,
     "metadata": {},
     "output_type": "execute_result"
    }
   ],
   "source": [
    "even"
   ]
  },
  {
   "cell_type": "code",
   "execution_count": null,
   "id": "2e9db3d3",
   "metadata": {},
   "outputs": [],
   "source": []
  }
 ],
 "metadata": {
  "kernelspec": {
   "display_name": "Python 3",
   "language": "python",
   "name": "python3"
  },
  "language_info": {
   "codemirror_mode": {
    "name": "ipython",
    "version": 3
   },
   "file_extension": ".py",
   "mimetype": "text/x-python",
   "name": "python",
   "nbconvert_exporter": "python",
   "pygments_lexer": "ipython3",
   "version": "3.6.13"
  }
 },
 "nbformat": 4,
 "nbformat_minor": 5
}
