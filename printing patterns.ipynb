{
 "cells": [
  {
   "cell_type": "markdown",
   "id": "80ddc4c5",
   "metadata": {},
   "source": [
    "*\n",
    "* *\n",
    "* * *\n",
    "* * * *\n",
    "* * * * *"
   ]
  },
  {
   "cell_type": "code",
   "execution_count": 4,
   "id": "ab742e45",
   "metadata": {},
   "outputs": [
    {
     "name": "stdout",
     "output_type": "stream",
     "text": [
      "* \n",
      "\n",
      "* * \n",
      "\n",
      "* * * \n",
      "\n",
      "* * * * \n",
      "\n",
      "* * * * * \n",
      "\n"
     ]
    }
   ],
   "source": [
    "for i in range(0,5):\n",
    "    \"\"\"\n",
    "    [0,1,2,3,4]\n",
    "    3rd iteration\n",
    "    i = 2\n",
    "    \n",
    "    i -> on which iteration???\n",
    "    \"\"\"\n",
    "    for j in range(0,i+1):\n",
    "        \"\"\"\n",
    "        range(0,3) => [0,1,2]\n",
    "        \n",
    "        \"\"\"\n",
    "        print(\"* \",end=\"\")\n",
    "    print(\"\\n\")\n",
    "\n",
    "        \n",
    "    "
   ]
  },
  {
   "cell_type": "code",
   "execution_count": 6,
   "id": "42b65879",
   "metadata": {},
   "outputs": [
    {
     "name": "stdout",
     "output_type": "stream",
     "text": [
      "*   *   *   "
     ]
    }
   ],
   "source": [
    "for i in range(0,5):\n",
    "    print(\"*   \",end = \"\")"
   ]
  },
  {
   "cell_type": "code",
   "execution_count": null,
   "id": "f41fb59b",
   "metadata": {},
   "outputs": [],
   "source": []
  }
 ],
 "metadata": {
  "kernelspec": {
   "display_name": "Python 3",
   "language": "python",
   "name": "python3"
  },
  "language_info": {
   "codemirror_mode": {
    "name": "ipython",
    "version": 3
   },
   "file_extension": ".py",
   "mimetype": "text/x-python",
   "name": "python",
   "nbconvert_exporter": "python",
   "pygments_lexer": "ipython3",
   "version": "3.6.13"
  }
 },
 "nbformat": 4,
 "nbformat_minor": 5
}
