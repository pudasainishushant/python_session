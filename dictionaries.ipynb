{
 "cells": [
  {
   "cell_type": "code",
   "execution_count": 1,
   "id": "a12cdb73",
   "metadata": {},
   "outputs": [],
   "source": [
    "nepali_dictionary = {\"pradhanmantri\":\"desh ko sabse thulo manxe\",\"rastrapati\":\"desh ko pati\"}"
   ]
  },
  {
   "cell_type": "code",
   "execution_count": 2,
   "id": "095dfa99",
   "metadata": {},
   "outputs": [],
   "source": [
    "dict1 = dict()"
   ]
  },
  {
   "cell_type": "code",
   "execution_count": 5,
   "id": "743f9dd5",
   "metadata": {},
   "outputs": [
    {
     "data": {
      "text/plain": [
       "dict"
      ]
     },
     "execution_count": 5,
     "metadata": {},
     "output_type": "execute_result"
    }
   ],
   "source": [
    "type(nepali_dictionary)"
   ]
  },
  {
   "cell_type": "code",
   "execution_count": 6,
   "id": "879d7bd6",
   "metadata": {},
   "outputs": [],
   "source": [
    "class_students = {\"1\":\"Abiral\",\"2\":\"Abriti\",\"3\":\"Arjan\",\"4\":\"Arpita\"}"
   ]
  },
  {
   "cell_type": "code",
   "execution_count": 8,
   "id": "4cac161f",
   "metadata": {},
   "outputs": [
    {
     "data": {
      "text/plain": [
       "'Abriti'"
      ]
     },
     "execution_count": 8,
     "metadata": {},
     "output_type": "execute_result"
    }
   ],
   "source": [
    "class_students[\"2\"]"
   ]
  },
  {
   "cell_type": "code",
   "execution_count": 10,
   "id": "7e73728b",
   "metadata": {},
   "outputs": [],
   "source": [
    "class_students[\"5\"] = \"Suzan\""
   ]
  },
  {
   "cell_type": "code",
   "execution_count": 11,
   "id": "239d7ce3",
   "metadata": {},
   "outputs": [
    {
     "data": {
      "text/plain": [
       "{'1': 'Abiral', '2': 'Abriti', '3': 'Arjan', '4': 'Arpita', '5': 'Suzan'}"
      ]
     },
     "execution_count": 11,
     "metadata": {},
     "output_type": "execute_result"
    }
   ],
   "source": [
    "class_students"
   ]
  },
  {
   "cell_type": "code",
   "execution_count": 12,
   "id": "ccc42230",
   "metadata": {},
   "outputs": [],
   "source": [
    "class_students.update({\"6\":\"Umesh\"})"
   ]
  },
  {
   "cell_type": "code",
   "execution_count": 13,
   "id": "13834338",
   "metadata": {},
   "outputs": [
    {
     "data": {
      "text/plain": [
       "{'1': 'Abiral',\n",
       " '2': 'Abriti',\n",
       " '3': 'Arjan',\n",
       " '4': 'Arpita',\n",
       " '5': 'Suzan',\n",
       " '6': 'Umesh'}"
      ]
     },
     "execution_count": 13,
     "metadata": {},
     "output_type": "execute_result"
    }
   ],
   "source": [
    "class_students"
   ]
  },
  {
   "cell_type": "code",
   "execution_count": 14,
   "id": "65b7953a",
   "metadata": {},
   "outputs": [],
   "source": [
    "del class_students['2']"
   ]
  },
  {
   "cell_type": "code",
   "execution_count": 15,
   "id": "b5b86366",
   "metadata": {},
   "outputs": [
    {
     "data": {
      "text/plain": [
       "{'1': 'Abiral', '3': 'Arjan', '4': 'Arpita', '5': 'Suzan', '6': 'Umesh'}"
      ]
     },
     "execution_count": 15,
     "metadata": {},
     "output_type": "execute_result"
    }
   ],
   "source": [
    "class_students"
   ]
  },
  {
   "cell_type": "code",
   "execution_count": 22,
   "id": "8394a43e",
   "metadata": {},
   "outputs": [
    {
     "data": {
      "text/plain": [
       "'Arpita'"
      ]
     },
     "execution_count": 22,
     "metadata": {},
     "output_type": "execute_result"
    }
   ],
   "source": [
    "class_students.get(\"4\",\"not found\")"
   ]
  },
  {
   "cell_type": "code",
   "execution_count": 28,
   "id": "14da4dcc",
   "metadata": {},
   "outputs": [
    {
     "data": {
      "text/plain": [
       "dict_keys(['1', '3', '4', '5', '6'])"
      ]
     },
     "execution_count": 28,
     "metadata": {},
     "output_type": "execute_result"
    }
   ],
   "source": [
    "class_students.keys()"
   ]
  },
  {
   "cell_type": "code",
   "execution_count": 29,
   "id": "d655fb4f",
   "metadata": {},
   "outputs": [
    {
     "data": {
      "text/plain": [
       "dict_values(['Abiral', 'Arjan', 'Arpita', 'Suzan', 'Umesh'])"
      ]
     },
     "execution_count": 29,
     "metadata": {},
     "output_type": "execute_result"
    }
   ],
   "source": [
    "class_students.values()"
   ]
  },
  {
   "cell_type": "code",
   "execution_count": 30,
   "id": "bb06d8ce",
   "metadata": {},
   "outputs": [
    {
     "data": {
      "text/plain": [
       "dict_items([('1', 'Abiral'), ('3', 'Arjan'), ('4', 'Arpita'), ('5', 'Suzan'), ('6', 'Umesh')])"
      ]
     },
     "execution_count": 30,
     "metadata": {},
     "output_type": "execute_result"
    }
   ],
   "source": [
    "class_students.items()"
   ]
  },
  {
   "cell_type": "code",
   "execution_count": 33,
   "id": "7c60a716",
   "metadata": {},
   "outputs": [
    {
     "name": "stdout",
     "output_type": "stream",
     "text": [
      "Roll no : 1 Name: Abiral\n",
      "Roll no : 3 Name: Arjan\n",
      "Roll no : 4 Name: Arpita\n",
      "Roll no : 5 Name: Suzan\n",
      "Roll no : 6 Name: Umesh\n"
     ]
    }
   ],
   "source": [
    "for roll_number,name in class_students.items():\n",
    "    print(\"Roll no : {} Name: {}\".format(roll_number,name))"
   ]
  },
  {
   "cell_type": "code",
   "execution_count": null,
   "id": "860a6a79",
   "metadata": {},
   "outputs": [],
   "source": []
  }
 ],
 "metadata": {
  "kernelspec": {
   "display_name": "Python 3",
   "language": "python",
   "name": "python3"
  },
  "language_info": {
   "codemirror_mode": {
    "name": "ipython",
    "version": 3
   },
   "file_extension": ".py",
   "mimetype": "text/x-python",
   "name": "python",
   "nbconvert_exporter": "python",
   "pygments_lexer": "ipython3",
   "version": "3.6.13"
  }
 },
 "nbformat": 4,
 "nbformat_minor": 5
}
