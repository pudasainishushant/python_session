{
 "cells": [
  {
   "cell_type": "markdown",
   "id": "8bbceb2a",
   "metadata": {},
   "source": [
    "While statement"
   ]
  },
  {
   "cell_type": "code",
   "execution_count": 3,
   "id": "f1d8bdd1",
   "metadata": {},
   "outputs": [
    {
     "name": "stdout",
     "output_type": "stream",
     "text": [
      "Hello\n",
      "Hello\n",
      "Hello\n",
      "Hello\n",
      "aahile count 4 vanda badi vayo\n"
     ]
    }
   ],
   "source": [
    "count = 0\n",
    "\n",
    "while(count < 4):\n",
    "    count = count + 1\n",
    "    print(\"Hello\")\n",
    "else:\n",
    "    print(\"aahile count 4 vanda badi vayo\")"
   ]
  },
  {
   "cell_type": "code",
   "execution_count": 4,
   "id": "ab54ec84",
   "metadata": {},
   "outputs": [
    {
     "name": "stdout",
     "output_type": "stream",
     "text": [
      "Aahile i eti xa 0\n",
      "Aahile i eti xa 1\n",
      "Aahile i eti xa 2\n",
      "Aahile i eti xa 3\n"
     ]
    }
   ],
   "source": [
    "n = 4\n",
    "for i in range(0,n):\n",
    "    print(\"Aahile i eti xa\",i)"
   ]
  },
  {
   "cell_type": "code",
   "execution_count": 11,
   "id": "0409583e",
   "metadata": {},
   "outputs": [
    {
     "name": "stdout",
     "output_type": "stream",
     "text": [
      "Umesh\n",
      "Sujan\n",
      "Shushant\n"
     ]
    }
   ],
   "source": [
    "student_name = [\"Umesh\",\"Sujan\",\"Shushant\"]\n",
    "\n",
    "for name in student_name:\n",
    "    print(name)"
   ]
  },
  {
   "cell_type": "code",
   "execution_count": 18,
   "id": "ccdb0f73",
   "metadata": {},
   "outputs": [
    {
     "name": "stdout",
     "output_type": "stream",
     "text": [
      "0 \n",
      "0 1 \n",
      "0 1 2 \n",
      "0 1 2 3 \n",
      "0 1 2 3 4 \n",
      "0 1 2 3 4 5 \n",
      "0 1 2 3 4 5 6 \n",
      "0 1 2 3 4 5 6 7 \n",
      "0 1 2 3 4 5 6 7 8 \n"
     ]
    }
   ],
   "source": [
    "[1,2,3,4]\n",
    "[1,2]\n",
    "for i in range(1,10):\n",
    "#     print(\"First loop  i {} xa\".format(i))\n",
    "    for j in range(0,i):\n",
    "#         print(\"Second loop ma chiresi j {} xa\".format(j))\n",
    "        print(j, end = ' ')\n",
    "    print()"
   ]
  },
  {
   "cell_type": "code",
   "execution_count": null,
   "id": "f79f7ea4",
   "metadata": {},
   "outputs": [],
   "source": []
  }
 ],
 "metadata": {
  "kernelspec": {
   "display_name": "Python 3",
   "language": "python",
   "name": "python3"
  },
  "language_info": {
   "codemirror_mode": {
    "name": "ipython",
    "version": 3
   },
   "file_extension": ".py",
   "mimetype": "text/x-python",
   "name": "python",
   "nbconvert_exporter": "python",
   "pygments_lexer": "ipython3",
   "version": "3.6.13"
  }
 },
 "nbformat": 4,
 "nbformat_minor": 5
}
