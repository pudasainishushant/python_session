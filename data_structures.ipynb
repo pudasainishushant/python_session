{
 "cells": [
  {
   "cell_type": "markdown",
   "id": "1f34b48b",
   "metadata": {},
   "source": [
    "## Lists"
   ]
  },
  {
   "cell_type": "code",
   "execution_count": 2,
   "id": "34ddf9a3",
   "metadata": {},
   "outputs": [],
   "source": [
    "list1 = []"
   ]
  },
  {
   "cell_type": "code",
   "execution_count": 3,
   "id": "625a632f",
   "metadata": {},
   "outputs": [
    {
     "data": {
      "text/plain": [
       "list"
      ]
     },
     "execution_count": 3,
     "metadata": {},
     "output_type": "execute_result"
    }
   ],
   "source": [
    "type(list1)"
   ]
  },
  {
   "cell_type": "code",
   "execution_count": 11,
   "id": "c3246a0f",
   "metadata": {},
   "outputs": [],
   "source": [
    "list1 = ['appple','oranges','banana']"
   ]
  },
  {
   "cell_type": "code",
   "execution_count": 6,
   "id": "9be5c8c6",
   "metadata": {},
   "outputs": [],
   "source": [
    "item = ('apple','banana')"
   ]
  },
  {
   "cell_type": "code",
   "execution_count": 7,
   "id": "9a3a6e0b",
   "metadata": {},
   "outputs": [],
   "source": [
    "other = {'apple','banana'}"
   ]
  },
  {
   "cell_type": "code",
   "execution_count": 8,
   "id": "353ca87c",
   "metadata": {},
   "outputs": [
    {
     "data": {
      "text/plain": [
       "set"
      ]
     },
     "execution_count": 8,
     "metadata": {},
     "output_type": "execute_result"
    }
   ],
   "source": [
    "type(other)"
   ]
  },
  {
   "cell_type": "code",
   "execution_count": 10,
   "id": "53fd8ef3",
   "metadata": {},
   "outputs": [],
   "source": [
    "list2 = ['Ram','Shyam',\"hari\"]"
   ]
  },
  {
   "cell_type": "code",
   "execution_count": 11,
   "id": "2a04c7bb",
   "metadata": {},
   "outputs": [
    {
     "data": {
      "text/plain": [
       "str"
      ]
     },
     "execution_count": 11,
     "metadata": {},
     "output_type": "execute_result"
    }
   ],
   "source": [
    "type(list2[1])"
   ]
  },
  {
   "cell_type": "code",
   "execution_count": 13,
   "id": "cf8319c0",
   "metadata": {},
   "outputs": [],
   "source": [
    "z = [list1,list2]"
   ]
  },
  {
   "cell_type": "code",
   "execution_count": 15,
   "id": "b6f60e09",
   "metadata": {},
   "outputs": [
    {
     "data": {
      "text/plain": [
       "['Ram', 'Shyam', 'hari']"
      ]
     },
     "execution_count": 15,
     "metadata": {},
     "output_type": "execute_result"
    }
   ],
   "source": [
    "z[1]"
   ]
  },
  {
   "cell_type": "code",
   "execution_count": 13,
   "id": "8b93bdee",
   "metadata": {},
   "outputs": [],
   "source": [
    "num = [0,1,2,3,4,5,6,7,8,9]"
   ]
  },
  {
   "cell_type": "code",
   "execution_count": 14,
   "id": "52f5b2e9",
   "metadata": {},
   "outputs": [
    {
     "data": {
      "text/plain": [
       "int"
      ]
     },
     "execution_count": 14,
     "metadata": {},
     "output_type": "execute_result"
    }
   ],
   "source": [
    "type(num[2])"
   ]
  },
  {
   "cell_type": "code",
   "execution_count": 17,
   "id": "41eb221e",
   "metadata": {},
   "outputs": [
    {
     "data": {
      "text/plain": [
       "[0, 1, 2, 3]"
      ]
     },
     "execution_count": 17,
     "metadata": {},
     "output_type": "execute_result"
    }
   ],
   "source": [
    "num[0:4]"
   ]
  },
  {
   "cell_type": "code",
   "execution_count": 18,
   "id": "80e7156c",
   "metadata": {},
   "outputs": [
    {
     "data": {
      "text/plain": [
       "[4, 5, 6, 7, 8, 9]"
      ]
     },
     "execution_count": 18,
     "metadata": {},
     "output_type": "execute_result"
    }
   ],
   "source": [
    "num[4:]"
   ]
  },
  {
   "cell_type": "code",
   "execution_count": 20,
   "id": "72c1e5ab",
   "metadata": {},
   "outputs": [
    {
     "data": {
      "text/plain": [
       "3"
      ]
     },
     "execution_count": 20,
     "metadata": {},
     "output_type": "execute_result"
    }
   ],
   "source": [
    "len(list1)"
   ]
  },
  {
   "cell_type": "code",
   "execution_count": 21,
   "id": "33c00c93",
   "metadata": {},
   "outputs": [
    {
     "data": {
      "text/plain": [
       "0"
      ]
     },
     "execution_count": 21,
     "metadata": {},
     "output_type": "execute_result"
    }
   ],
   "source": [
    "min(num)"
   ]
  },
  {
   "cell_type": "code",
   "execution_count": 22,
   "id": "ce35b464",
   "metadata": {},
   "outputs": [
    {
     "data": {
      "text/plain": [
       "9"
      ]
     },
     "execution_count": 22,
     "metadata": {},
     "output_type": "execute_result"
    }
   ],
   "source": [
    "max(num)"
   ]
  },
  {
   "cell_type": "code",
   "execution_count": 23,
   "id": "c6ac5a1b",
   "metadata": {},
   "outputs": [],
   "source": [
    "concatenated_list = list1 + list2"
   ]
  },
  {
   "cell_type": "code",
   "execution_count": 24,
   "id": "69d5c245",
   "metadata": {
    "scrolled": true
   },
   "outputs": [
    {
     "data": {
      "text/plain": [
       "['appple', 'oranges', 'banana', 'Ram', 'Shyam', 'hari']"
      ]
     },
     "execution_count": 24,
     "metadata": {},
     "output_type": "execute_result"
    }
   ],
   "source": [
    "concatenated_list"
   ]
  },
  {
   "cell_type": "code",
   "execution_count": 26,
   "id": "8d507b8f",
   "metadata": {},
   "outputs": [
    {
     "data": {
      "text/plain": [
       "['appple', 'oranges', 'banana']"
      ]
     },
     "execution_count": 26,
     "metadata": {},
     "output_type": "execute_result"
    }
   ],
   "source": [
    "list1"
   ]
  },
  {
   "cell_type": "code",
   "execution_count": 25,
   "id": "37e0dc0b",
   "metadata": {},
   "outputs": [
    {
     "data": {
      "text/plain": [
       "False"
      ]
     },
     "execution_count": 25,
     "metadata": {},
     "output_type": "execute_result"
    }
   ],
   "source": [
    "'apple' in list1"
   ]
  },
  {
   "cell_type": "code",
   "execution_count": 27,
   "id": "7bce513d",
   "metadata": {},
   "outputs": [
    {
     "data": {
      "text/plain": [
       "True"
      ]
     },
     "execution_count": 27,
     "metadata": {},
     "output_type": "execute_result"
    }
   ],
   "source": [
    "'appple' in list1"
   ]
  },
  {
   "cell_type": "code",
   "execution_count": 28,
   "id": "e687e937",
   "metadata": {},
   "outputs": [
    {
     "data": {
      "text/plain": [
       "['h', 'e', 'l', 'l', 'o']"
      ]
     },
     "execution_count": 28,
     "metadata": {},
     "output_type": "execute_result"
    }
   ],
   "source": [
    "list('hello')"
   ]
  },
  {
   "cell_type": "code",
   "execution_count": 34,
   "id": "875b69dc",
   "metadata": {},
   "outputs": [],
   "source": [
    "concatenated_list.append(\"oranges\")"
   ]
  },
  {
   "cell_type": "code",
   "execution_count": 35,
   "id": "5f2a8b09",
   "metadata": {},
   "outputs": [
    {
     "data": {
      "text/plain": [
       "['appple',\n",
       " 'oranges',\n",
       " 'banana',\n",
       " 'Ram',\n",
       " 'Shyam',\n",
       " 'hari',\n",
       " 'umesh',\n",
       " 'orange',\n",
       " 'oranges']"
      ]
     },
     "execution_count": 35,
     "metadata": {},
     "output_type": "execute_result"
    }
   ],
   "source": [
    "concatenated_list"
   ]
  },
  {
   "cell_type": "code",
   "execution_count": 36,
   "id": "1b3ca79e",
   "metadata": {},
   "outputs": [
    {
     "data": {
      "text/plain": [
       "2"
      ]
     },
     "execution_count": 36,
     "metadata": {},
     "output_type": "execute_result"
    }
   ],
   "source": [
    "concatenated_list.count(\"oranges\")"
   ]
  },
  {
   "cell_type": "code",
   "execution_count": 37,
   "id": "be2a823f",
   "metadata": {},
   "outputs": [],
   "source": [
    "list1.extend(list2)"
   ]
  },
  {
   "cell_type": "code",
   "execution_count": 38,
   "id": "0fb14dda",
   "metadata": {},
   "outputs": [
    {
     "data": {
      "text/plain": [
       "['appple', 'oranges', 'banana', 'Ram', 'Shyam', 'hari']"
      ]
     },
     "execution_count": 38,
     "metadata": {},
     "output_type": "execute_result"
    }
   ],
   "source": [
    "list1"
   ]
  },
  {
   "cell_type": "code",
   "execution_count": 39,
   "id": "ff6c340c",
   "metadata": {},
   "outputs": [
    {
     "data": {
      "text/plain": [
       "3"
      ]
     },
     "execution_count": 39,
     "metadata": {},
     "output_type": "execute_result"
    }
   ],
   "source": [
    "list1.index('Ram')"
   ]
  },
  {
   "cell_type": "code",
   "execution_count": 40,
   "id": "0fb4beed",
   "metadata": {},
   "outputs": [],
   "source": [
    "list1.insert(4,'gita')"
   ]
  },
  {
   "cell_type": "code",
   "execution_count": 41,
   "id": "d6a7ca33",
   "metadata": {},
   "outputs": [
    {
     "data": {
      "text/plain": [
       "['appple', 'oranges', 'banana', 'Ram', 'gita', 'Shyam', 'hari']"
      ]
     },
     "execution_count": 41,
     "metadata": {},
     "output_type": "execute_result"
    }
   ],
   "source": [
    "list1"
   ]
  },
  {
   "cell_type": "code",
   "execution_count": 42,
   "id": "577f82a5",
   "metadata": {},
   "outputs": [],
   "source": [
    "list1.append('prabesh')"
   ]
  },
  {
   "cell_type": "code",
   "execution_count": 43,
   "id": "095e77fe",
   "metadata": {},
   "outputs": [
    {
     "data": {
      "text/plain": [
       "['appple', 'oranges', 'banana', 'Ram', 'gita', 'Shyam', 'hari', 'prabesh']"
      ]
     },
     "execution_count": 43,
     "metadata": {},
     "output_type": "execute_result"
    }
   ],
   "source": [
    "list1"
   ]
  },
  {
   "cell_type": "code",
   "execution_count": 44,
   "id": "7244c2f6",
   "metadata": {},
   "outputs": [
    {
     "data": {
      "text/plain": [
       "'prabesh'"
      ]
     },
     "execution_count": 44,
     "metadata": {},
     "output_type": "execute_result"
    }
   ],
   "source": [
    "list1.pop()"
   ]
  },
  {
   "cell_type": "code",
   "execution_count": 45,
   "id": "8159cbbe",
   "metadata": {},
   "outputs": [
    {
     "data": {
      "text/plain": [
       "['appple', 'oranges', 'banana', 'Ram', 'gita', 'Shyam', 'hari']"
      ]
     },
     "execution_count": 45,
     "metadata": {},
     "output_type": "execute_result"
    }
   ],
   "source": [
    "list1"
   ]
  },
  {
   "cell_type": "code",
   "execution_count": 46,
   "id": "7756d777",
   "metadata": {},
   "outputs": [
    {
     "data": {
      "text/plain": [
       "'appple'"
      ]
     },
     "execution_count": 46,
     "metadata": {},
     "output_type": "execute_result"
    }
   ],
   "source": [
    "list1.pop(0)"
   ]
  },
  {
   "cell_type": "code",
   "execution_count": 47,
   "id": "bf14360c",
   "metadata": {},
   "outputs": [
    {
     "data": {
      "text/plain": [
       "['oranges', 'banana', 'Ram', 'gita', 'Shyam', 'hari']"
      ]
     },
     "execution_count": 47,
     "metadata": {},
     "output_type": "execute_result"
    }
   ],
   "source": [
    "list1"
   ]
  },
  {
   "cell_type": "code",
   "execution_count": 49,
   "id": "ac707cb3",
   "metadata": {},
   "outputs": [],
   "source": [
    "list1.remove('Ram')"
   ]
  },
  {
   "cell_type": "code",
   "execution_count": 63,
   "id": "868abb34",
   "metadata": {},
   "outputs": [],
   "source": [
    "number = [5,6,7,8,3,2,1]"
   ]
  },
  {
   "cell_type": "code",
   "execution_count": 64,
   "id": "0f02b6e4",
   "metadata": {},
   "outputs": [],
   "source": [
    "number.reverse()"
   ]
  },
  {
   "cell_type": "code",
   "execution_count": 78,
   "id": "41d56634",
   "metadata": {},
   "outputs": [
    {
     "data": {
      "text/plain": [
       "[8, 7, 6, 5, 3, 2, 1]"
      ]
     },
     "execution_count": 78,
     "metadata": {},
     "output_type": "execute_result"
    }
   ],
   "source": [
    "number"
   ]
  },
  {
   "cell_type": "code",
   "execution_count": 1,
   "id": "d75c266a",
   "metadata": {},
   "outputs": [],
   "source": [
    "numbers = [3,5,66,2,1]"
   ]
  },
  {
   "cell_type": "code",
   "execution_count": 2,
   "id": "de8ce888",
   "metadata": {},
   "outputs": [],
   "source": [
    "sorted_numbers = sorted(numbers)"
   ]
  },
  {
   "cell_type": "code",
   "execution_count": 3,
   "id": "2f1fa41d",
   "metadata": {
    "scrolled": false
   },
   "outputs": [
    {
     "data": {
      "text/plain": [
       "[1, 2, 3, 5, 66]"
      ]
     },
     "execution_count": 3,
     "metadata": {},
     "output_type": "execute_result"
    }
   ],
   "source": [
    "sorted_numbers"
   ]
  },
  {
   "cell_type": "code",
   "execution_count": 35,
   "id": "66b1eab2",
   "metadata": {},
   "outputs": [],
   "source": [
    "list1 = [\"Suzan\",\"Umesh\",\"Shushant\"]\n",
    "list1withIndex = list(enumerate(list1))"
   ]
  },
  {
   "cell_type": "code",
   "execution_count": 38,
   "id": "68e63c4a",
   "metadata": {},
   "outputs": [
    {
     "data": {
      "text/plain": [
       "[(0, 'Suzan'), (1, 'Umesh'), (2, 'Shushant')]"
      ]
     },
     "execution_count": 38,
     "metadata": {},
     "output_type": "execute_result"
    }
   ],
   "source": [
    "list1withIndex"
   ]
  },
  {
   "cell_type": "code",
   "execution_count": 37,
   "id": "e8cd66ae",
   "metadata": {},
   "outputs": [
    {
     "data": {
      "text/plain": [
       "<enumerate at 0x7f66602f5740>"
      ]
     },
     "execution_count": 37,
     "metadata": {},
     "output_type": "execute_result"
    }
   ],
   "source": [
    "enumerate(list1)"
   ]
  },
  {
   "cell_type": "code",
   "execution_count": 26,
   "id": "97a4a044",
   "metadata": {},
   "outputs": [
    {
     "name": "stdout",
     "output_type": "stream",
     "text": [
      "0 Ram\n",
      "1 Shyam\n",
      "2 Hari\n"
     ]
    }
   ],
   "source": [
    "names = ['Ram',\"Shyam\",\"Hari\"]\n",
    "for name in names:\n",
    "    print(\"{} {}\".format(names.index(name),name))"
   ]
  },
  {
   "cell_type": "code",
   "execution_count": 27,
   "id": "71f7b51f",
   "metadata": {},
   "outputs": [
    {
     "name": "stdout",
     "output_type": "stream",
     "text": [
      "0 Ram\n",
      "1 Shyam\n",
      "2 Hari\n"
     ]
    }
   ],
   "source": [
    "names = ['Ram',\"Shyam\",\"Hari\"]\n",
    "for index,name in enumerate(names):\n",
    "    print(\"{} {}\".format(index,name))"
   ]
  },
  {
   "cell_type": "code",
   "execution_count": 29,
   "id": "bf97a704",
   "metadata": {},
   "outputs": [
    {
     "data": {
      "text/plain": [
       "[(0, 'Ram'), (1, 'Shyam'), (2, 'Hari')]"
      ]
     },
     "execution_count": 29,
     "metadata": {},
     "output_type": "execute_result"
    }
   ],
   "source": [
    "list(enumerate(names))"
   ]
  },
  {
   "cell_type": "code",
   "execution_count": 41,
   "id": "39a5d41c",
   "metadata": {},
   "outputs": [],
   "source": [
    "list1 = [\"Niroj\",\"Umesh\",\"Shushant\",\"geeta\"]\n",
    "list2 = [\"Budathoki\",\"kc\",\"Pudasaini\"]\n",
    "full_list = zip(list1,list2)"
   ]
  },
  {
   "cell_type": "code",
   "execution_count": 42,
   "id": "5e777cb9",
   "metadata": {},
   "outputs": [
    {
     "data": {
      "text/plain": [
       "[('Niroj', 'Budathoki'), ('Umesh', 'kc'), ('Shushant', 'Pudasaini')]"
      ]
     },
     "execution_count": 42,
     "metadata": {},
     "output_type": "execute_result"
    }
   ],
   "source": [
    "list(full_list)"
   ]
  },
  {
   "cell_type": "code",
   "execution_count": 43,
   "id": "0c1a42b9",
   "metadata": {},
   "outputs": [],
   "source": [
    "names = [\"Niroj\",\"Umesh\",\"Shushant\",\"geeta\"]\n",
    "names[3] = 'Sita'"
   ]
  },
  {
   "cell_type": "code",
   "execution_count": 44,
   "id": "4c86295f",
   "metadata": {},
   "outputs": [
    {
     "data": {
      "text/plain": [
       "['Niroj', 'Umesh', 'Shushant', 'Sita']"
      ]
     },
     "execution_count": 44,
     "metadata": {},
     "output_type": "execute_result"
    }
   ],
   "source": [
    "names"
   ]
  },
  {
   "cell_type": "markdown",
   "id": "7231fe89",
   "metadata": {},
   "source": [
    "## Tuple"
   ]
  },
  {
   "cell_type": "code",
   "execution_count": 52,
   "id": "63fd56ba",
   "metadata": {},
   "outputs": [],
   "source": [
    "tuple1 = (1,2)"
   ]
  },
  {
   "cell_type": "code",
   "execution_count": 53,
   "id": "0c6aa407",
   "metadata": {},
   "outputs": [
    {
     "data": {
      "text/plain": [
       "tuple"
      ]
     },
     "execution_count": 53,
     "metadata": {},
     "output_type": "execute_result"
    }
   ],
   "source": [
    "type(tuple1)"
   ]
  },
  {
   "cell_type": "code",
   "execution_count": 54,
   "id": "bfb13eba",
   "metadata": {},
   "outputs": [],
   "source": [
    "names = [\"Niroj\",\"Umesh\",\"Shushant\",\"geeta\"]\n",
    "tuple_names = tuple(names)"
   ]
  },
  {
   "cell_type": "code",
   "execution_count": 55,
   "id": "cc0f2700",
   "metadata": {},
   "outputs": [
    {
     "data": {
      "text/plain": [
       "('Niroj', 'Umesh', 'Shushant', 'geeta')"
      ]
     },
     "execution_count": 55,
     "metadata": {},
     "output_type": "execute_result"
    }
   ],
   "source": [
    "tuple_names"
   ]
  },
  {
   "cell_type": "code",
   "execution_count": 63,
   "id": "2836de80",
   "metadata": {},
   "outputs": [
    {
     "data": {
      "text/plain": [
       "'Shushant'"
      ]
     },
     "execution_count": 63,
     "metadata": {},
     "output_type": "execute_result"
    }
   ],
   "source": [
    "tuple_names[2]"
   ]
  },
  {
   "cell_type": "code",
   "execution_count": 64,
   "id": "2d5c46e8",
   "metadata": {},
   "outputs": [
    {
     "data": {
      "text/plain": [
       "1"
      ]
     },
     "execution_count": 64,
     "metadata": {},
     "output_type": "execute_result"
    }
   ],
   "source": [
    "tuple_names.count('Niroj')"
   ]
  },
  {
   "cell_type": "code",
   "execution_count": 65,
   "id": "f3c5d5ce",
   "metadata": {},
   "outputs": [
    {
     "data": {
      "text/plain": [
       "0"
      ]
     },
     "execution_count": 65,
     "metadata": {},
     "output_type": "execute_result"
    }
   ],
   "source": [
    "tuple_names.index(\"Niroj\")"
   ]
  },
  {
   "cell_type": "markdown",
   "id": "99b177a3",
   "metadata": {},
   "source": [
    "## Sets"
   ]
  },
  {
   "cell_type": "code",
   "execution_count": 66,
   "id": "449acd12",
   "metadata": {},
   "outputs": [],
   "source": [
    "set1 = {\"ram\",'shyam','hari'}"
   ]
  },
  {
   "cell_type": "code",
   "execution_count": 68,
   "id": "e578ce3b",
   "metadata": {},
   "outputs": [],
   "source": [
    "set1 = set()"
   ]
  },
  {
   "cell_type": "code",
   "execution_count": 79,
   "id": "7af23321",
   "metadata": {},
   "outputs": [],
   "source": [
    "names = [\"Umesh\",\"Suzan\",\"Shushant\",\"Umesh\",\"Suzan\",\"Suzan\",\"Aakash\"]"
   ]
  },
  {
   "cell_type": "code",
   "execution_count": 80,
   "id": "bef75f00",
   "metadata": {},
   "outputs": [],
   "source": [
    "names_set = set(names)"
   ]
  },
  {
   "cell_type": "code",
   "execution_count": 81,
   "id": "a896ac0e",
   "metadata": {},
   "outputs": [
    {
     "data": {
      "text/plain": [
       "{'Aakash', 'Shushant', 'Suzan', 'Umesh'}"
      ]
     },
     "execution_count": 81,
     "metadata": {},
     "output_type": "execute_result"
    }
   ],
   "source": [
    "names_set"
   ]
  },
  {
   "cell_type": "code",
   "execution_count": 82,
   "id": "b9835a6c",
   "metadata": {},
   "outputs": [],
   "source": [
    "set_example = set(\"Ram\")"
   ]
  },
  {
   "cell_type": "code",
   "execution_count": 83,
   "id": "b8b028cf",
   "metadata": {},
   "outputs": [
    {
     "data": {
      "text/plain": [
       "{'R', 'a', 'm'}"
      ]
     },
     "execution_count": 83,
     "metadata": {},
     "output_type": "execute_result"
    }
   ],
   "source": [
    "set_example"
   ]
  },
  {
   "cell_type": "code",
   "execution_count": 95,
   "id": "b33406f9",
   "metadata": {},
   "outputs": [],
   "source": [
    "set1 = set([1,2,3])\n",
    "set2 = set([2,3,4,5])\n"
   ]
  },
  {
   "cell_type": "code",
   "execution_count": 97,
   "id": "22e1b0a2",
   "metadata": {},
   "outputs": [
    {
     "data": {
      "text/plain": [
       "1"
      ]
     },
     "execution_count": 97,
     "metadata": {},
     "output_type": "execute_result"
    }
   ],
   "source": [
    "set1.pop()"
   ]
  },
  {
   "cell_type": "code",
   "execution_count": 98,
   "id": "51420d28",
   "metadata": {},
   "outputs": [
    {
     "data": {
      "text/plain": [
       "{2, 3}"
      ]
     },
     "execution_count": 98,
     "metadata": {},
     "output_type": "execute_result"
    }
   ],
   "source": [
    "set1"
   ]
  },
  {
   "cell_type": "code",
   "execution_count": 99,
   "id": "e153e5d3",
   "metadata": {},
   "outputs": [],
   "source": [
    "set1.remove(3)"
   ]
  },
  {
   "cell_type": "code",
   "execution_count": 100,
   "id": "88b24cfb",
   "metadata": {},
   "outputs": [
    {
     "data": {
      "text/plain": [
       "{2}"
      ]
     },
     "execution_count": 100,
     "metadata": {},
     "output_type": "execute_result"
    }
   ],
   "source": [
    "set1"
   ]
  },
  {
   "cell_type": "code",
   "execution_count": null,
   "id": "ebdfa85b",
   "metadata": {},
   "outputs": [],
   "source": [
    "enumerate "
   ]
  }
 ],
 "metadata": {
  "kernelspec": {
   "display_name": "Python 3",
   "language": "python",
   "name": "python3"
  },
  "language_info": {
   "codemirror_mode": {
    "name": "ipython",
    "version": 3
   },
   "file_extension": ".py",
   "mimetype": "text/x-python",
   "name": "python",
   "nbconvert_exporter": "python",
   "pygments_lexer": "ipython3",
   "version": "3.8.8"
  }
 },
 "nbformat": 4,
 "nbformat_minor": 5
}
