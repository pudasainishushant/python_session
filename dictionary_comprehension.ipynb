{
 "cells": [
  {
   "cell_type": "code",
   "execution_count": 1,
   "id": "41e02ced",
   "metadata": {},
   "outputs": [],
   "source": [
    "roll_num = ['1','2','3','4']\n",
    "names = [\"Suzan\",\"Umesh\",\"Shushant\",\"KP\"]"
   ]
  },
  {
   "cell_type": "code",
   "execution_count": null,
   "id": "0533f82a",
   "metadata": {},
   "outputs": [],
   "source": [
    "zip(roll_num,names)"
   ]
  },
  {
   "cell_type": "code",
   "execution_count": 4,
   "id": "9f1ae370",
   "metadata": {},
   "outputs": [
    {
     "data": {
      "text/plain": [
       "[('1', 'Suzan'), ('2', 'Umesh'), ('3', 'Shushant'), ('4', 'KP')]"
      ]
     },
     "execution_count": 4,
     "metadata": {},
     "output_type": "execute_result"
    }
   ],
   "source": [
    "list(zip(roll_num,names))"
   ]
  },
  {
   "cell_type": "code",
   "execution_count": null,
   "id": "6423c634",
   "metadata": {},
   "outputs": [],
   "source": [
    "list(enumerate(names))"
   ]
  },
  {
   "cell_type": "code",
   "execution_count": 2,
   "id": "d49bf681",
   "metadata": {},
   "outputs": [],
   "source": [
    "dictionary_saved = dict()"
   ]
  },
  {
   "cell_type": "code",
   "execution_count": 5,
   "id": "3c34f8d1",
   "metadata": {},
   "outputs": [],
   "source": [
    "for roll,name in zip(roll_num,names):\n",
    "    dictionary_saved[roll] = name"
   ]
  },
  {
   "cell_type": "code",
   "execution_count": 7,
   "id": "7b9e4fde",
   "metadata": {},
   "outputs": [
    {
     "data": {
      "text/plain": [
       "{'1': 'Suzan', '2': 'Umesh', '3': 'Shushant', '4': 'KP'}"
      ]
     },
     "execution_count": 7,
     "metadata": {},
     "output_type": "execute_result"
    }
   ],
   "source": [
    "dictionary_saved"
   ]
  },
  {
   "cell_type": "code",
   "execution_count": null,
   "id": "b25797b4",
   "metadata": {},
   "outputs": [],
   "source": [
    "dict_compr = {roll:name for (roll,name) in zip(roll_num,names)}"
   ]
  },
  {
   "cell_type": "code",
   "execution_count": null,
   "id": "94079635",
   "metadata": {},
   "outputs": [],
   "source": [
    "dict_compr"
   ]
  },
  {
   "cell_type": "code",
   "execution_count": 8,
   "id": "1338d316",
   "metadata": {},
   "outputs": [],
   "source": [
    "numbers = [1,2,3,4,5,6]"
   ]
  },
  {
   "cell_type": "code",
   "execution_count": 13,
   "id": "8694a91e",
   "metadata": {},
   "outputs": [
    {
     "data": {
      "text/plain": [
       "{1: 1, 2: 4, 3: 9, 4: 16, 5: 25, 6: 36}"
      ]
     },
     "execution_count": 13,
     "metadata": {},
     "output_type": "execute_result"
    }
   ],
   "source": [
    "squaresss = {}\n",
    "for num in numbers:\n",
    "    sqaures_ko_key = num\n",
    "    sqaures_ko_value = num*num\n",
    "    squaresss[sqaures_ko_key] = sqaures_ko_value\n",
    "\n",
    "squaresss"
   ]
  },
  {
   "cell_type": "code",
   "execution_count": 9,
   "id": "13a7fa17",
   "metadata": {},
   "outputs": [],
   "source": [
    "squares = {num:num*num for num in numbers}"
   ]
  },
  {
   "cell_type": "code",
   "execution_count": 10,
   "id": "da2c15a4",
   "metadata": {},
   "outputs": [
    {
     "data": {
      "text/plain": [
       "{1: 1, 2: 4, 3: 9, 4: 16, 5: 25, 6: 36}"
      ]
     },
     "execution_count": 10,
     "metadata": {},
     "output_type": "execute_result"
    }
   ],
   "source": [
    "squares"
   ]
  },
  {
   "cell_type": "code",
   "execution_count": 11,
   "id": "1f711fe1",
   "metadata": {},
   "outputs": [
    {
     "data": {
      "text/plain": [
       "25"
      ]
     },
     "execution_count": 11,
     "metadata": {},
     "output_type": "execute_result"
    }
   ],
   "source": [
    "squares[5]"
   ]
  },
  {
   "cell_type": "code",
   "execution_count": 14,
   "id": "07ab26b3",
   "metadata": {},
   "outputs": [],
   "source": [
    "import os"
   ]
  },
  {
   "cell_type": "code",
   "execution_count": 15,
   "id": "fb138e5c",
   "metadata": {},
   "outputs": [
    {
     "data": {
      "text/plain": [
       "'/home/shushant/Desktop/python_session'"
      ]
     },
     "execution_count": 15,
     "metadata": {},
     "output_type": "execute_result"
    }
   ],
   "source": [
    "os.getcwd()"
   ]
  },
  {
   "cell_type": "code",
   "execution_count": null,
   "id": "e5b511f9",
   "metadata": {},
   "outputs": [],
   "source": []
  }
 ],
 "metadata": {
  "kernelspec": {
   "display_name": "Python 3",
   "language": "python",
   "name": "python3"
  },
  "language_info": {
   "codemirror_mode": {
    "name": "ipython",
    "version": 3
   },
   "file_extension": ".py",
   "mimetype": "text/x-python",
   "name": "python",
   "nbconvert_exporter": "python",
   "pygments_lexer": "ipython3",
   "version": "3.6.13"
  }
 },
 "nbformat": 4,
 "nbformat_minor": 5
}
